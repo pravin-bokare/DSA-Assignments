{
 "cells": [
  {
   "cell_type": "code",
   "execution_count": 1,
   "id": "658bca6c",
   "metadata": {},
   "outputs": [],
   "source": [
    "class Queue:\n",
    "    def __init__(self):\n",
    "        self.items = []\n",
    "\n",
    "    def enque(self, val):\n",
    "        self.items.append(val)\n",
    "\n",
    "    def deque(self):\n",
    "        self.items.pop(0)\n",
    "        \n",
    "    def isempty(self):\n",
    "        if len(self.items)==0:\n",
    "            return True\n",
    "        else:\n",
    "            return False\n",
    "\n",
    "    def print(self):\n",
    "        print(self.items)"
   ]
  },
  {
   "cell_type": "code",
   "execution_count": 2,
   "id": "773c1b24",
   "metadata": {},
   "outputs": [],
   "source": [
    "q= Queue()\n",
    "q.enque(5)\n",
    "q.enque(6)\n",
    "q.enque(7)"
   ]
  },
  {
   "cell_type": "code",
   "execution_count": 3,
   "id": "6031b3a1",
   "metadata": {},
   "outputs": [],
   "source": [
    "q.deque()"
   ]
  },
  {
   "cell_type": "code",
   "execution_count": 4,
   "id": "35968916",
   "metadata": {},
   "outputs": [
    {
     "name": "stdout",
     "output_type": "stream",
     "text": [
      "[6, 7]\n"
     ]
    }
   ],
   "source": [
    "q.print()"
   ]
  },
  {
   "cell_type": "code",
   "execution_count": 5,
   "id": "52628461",
   "metadata": {},
   "outputs": [
    {
     "data": {
      "text/plain": [
       "False"
      ]
     },
     "execution_count": 5,
     "metadata": {},
     "output_type": "execute_result"
    }
   ],
   "source": [
    "q.isempty()"
   ]
  },
  {
   "cell_type": "code",
   "execution_count": null,
   "id": "19bd36e7",
   "metadata": {},
   "outputs": [],
   "source": []
  }
 ],
 "metadata": {
  "kernelspec": {
   "display_name": "Python 3 (ipykernel)",
   "language": "python",
   "name": "python3"
  },
  "language_info": {
   "codemirror_mode": {
    "name": "ipython",
    "version": 3
   },
   "file_extension": ".py",
   "mimetype": "text/x-python",
   "name": "python",
   "nbconvert_exporter": "python",
   "pygments_lexer": "ipython3",
   "version": "3.9.7"
  }
 },
 "nbformat": 4,
 "nbformat_minor": 5
}
